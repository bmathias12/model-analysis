{
 "cells": [
  {
   "cell_type": "code",
   "execution_count": 1,
   "metadata": {},
   "outputs": [],
   "source": [
    "import numpy as np\n",
    "from sklearn.datasets import make_classification\n",
    "from sklearn.ensemble import GradientBoostingClassifier\n",
    "\n",
    "\n",
    "X, y = make_classification(1000)\n",
    "\n",
    "clf = GradientBoostingClassifier(random_state=123)\n",
    "clf.fit(X, y)\n",
    "\n",
    "scores = clf.predict_proba(X)[:,1]\n",
    "preds = np.where(scores > 0.5, 1, 0)"
   ]
  },
  {
   "cell_type": "code",
   "execution_count": 2,
   "metadata": {},
   "outputs": [],
   "source": [
    "class Analyzer:\n",
    "    def __init__(self, y_true, scores, preds):\n",
    "        self.y_true = y_true\n",
    "        self.scores = scores\n",
    "        self.preds = preds\n",
    "        \n",
    "    \n",
    "analyzer = Analyzer(y, scores, preds)"
   ]
  }
 ],
 "metadata": {
  "kernelspec": {
   "display_name": "Python 3",
   "language": "python",
   "name": "python3"
  },
  "language_info": {
   "codemirror_mode": {
    "name": "ipython",
    "version": 3
   },
   "file_extension": ".py",
   "mimetype": "text/x-python",
   "name": "python",
   "nbconvert_exporter": "python",
   "pygments_lexer": "ipython3",
   "version": "3.6.7"
  }
 },
 "nbformat": 4,
 "nbformat_minor": 4
}
